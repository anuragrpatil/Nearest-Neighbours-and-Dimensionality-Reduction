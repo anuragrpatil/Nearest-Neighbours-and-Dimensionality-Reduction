{
 "cells": [
  {
   "cell_type": "code",
   "execution_count": 2,
   "metadata": {},
   "outputs": [],
   "source": [
    "import matplotlib.pyplot as plt\n",
    "import numpy as np \n",
    "import math\n",
    "import numpy.linalg\n",
    "import pandas as pd\n",
    "from scipy.linalg import svd\n",
    "from scipy.spatial.distance import pdist, squareform"
   ]
  },
  {
   "cell_type": "code",
   "execution_count": 3,
   "metadata": {},
   "outputs": [
    {
     "data": {
      "text/plain": [
       "(4002, 100)"
      ]
     },
     "execution_count": 3,
     "metadata": {},
     "output_type": "execute_result"
    }
   ],
   "source": [
    "data = np.loadtxt('kernelpca.txt')\n",
    "data.shape"
   ]
  },
  {
   "cell_type": "markdown",
   "metadata": {},
   "source": [
    "# Kernel PCA"
   ]
  },
  {
   "cell_type": "code",
   "execution_count": null,
   "metadata": {},
   "outputs": [],
   "source": [
    "def pca(X, n):\n",
    " \n",
    "    zero_mean = (X - X.mean(axis=0))\n",
    "    cov = np.cov(zero_mean, rowvar=False)\n",
    "    \n",
    "    _, eigen_values, eigen_vectors = svd(cov)\n",
    "    \n",
    "\n",
    "    reduced_data = eigen_vectors[:n].dot(zero_mean.T).T\n",
    " \n",
    "    return reduced_data, eigen_vectors"
   ]
  },
  {
   "cell_type": "code",
   "execution_count": null,
   "metadata": {},
   "outputs": [],
   "source": [
    "reduced_data, eigen_vectors = pca(data, n=2)"
   ]
  },
  {
   "cell_type": "code",
   "execution_count": null,
   "metadata": {},
   "outputs": [],
   "source": [
    "plt.plot(reduced_data)"
   ]
  },
  {
   "cell_type": "code",
   "execution_count": 18,
   "metadata": {},
   "outputs": [
    {
     "name": "stdout",
     "output_type": "stream",
     "text": [
      "4002\n"
     ]
    }
   ],
   "source": [
    "def kernel_pca(data, n=2, kernel='rbf', degree=3, var=0.1):\n",
    "    if kernel == 'rbf':\n",
    "        sq_dists = squareform(pdist(data, 'sqeuclidean'))\n",
    "        K = np.exp((-1/(var) * sq_dists))\n",
    "    elif kernel == 'linear':\n",
    "        K = data.dot(data.T)\n",
    "\n",
    "    N = K.shape[0]\n",
    "    print(K.shape[0])\n",
    "    one_n = np.ones((N, N)) / N\n",
    "    \n",
    "    K = K - one_n.dot(K) - K.dot(one_n) + one_n.dot(K).dot(one_n)\n",
    "    \n",
    "    _, eigen_values, eigen_vectors = svd(K)\n",
    "    \n",
    "    return eigen_vectors[:1, :].T * np.sqrt(eigen_values[:1])\n",
    "\n",
    "transformed = kernel_pca(data, kernel='rbf', var=0.05)"
   ]
  },
  {
   "cell_type": "code",
   "execution_count": 19,
   "metadata": {},
   "outputs": [
    {
     "name": "stderr",
     "output_type": "stream",
     "text": [
      "No handles with labels found to put in legend.\n"
     ]
    },
    {
     "data": {
      "image/png": "[encoded data removed]",
      "text/plain": [
       "<Figure size 432x288 with 1 Axes>"
      ]
     },
     "metadata": {
      "needs_background": "light"
     },
     "output_type": "display_data"
    }
   ],
   "source": [
    "plt.plot(transformed)\n",
    "plt.grid()\n",
    "# plt.xlabel(r'$\\epsilon$')\n",
    "# plt.ylabel('time')\n",
    "plt.title('Kernel PCA First Principal Component $\\sigma=0.05$')\n",
    "plt.legend()\n",
    "plt.savefig('kernelPCA4.pdf',format='pdf', dpi=1500, bbox_inches='tight')\n",
    "plt.show()"
   ]
  },
  {
   "cell_type": "markdown",
   "metadata": {},
   "source": [
    "# Kernel PCA + Power Method"
   ]
  },
  {
   "cell_type": "code",
   "execution_count": 8,
   "metadata": {},
   "outputs": [
    {
     "data": {
      "text/plain": [
       "array([[-0.02030713],\n",
       "       [-0.01973906],\n",
       "       [-0.01990124],\n",
       "       ...,\n",
       "       [ 0.01995725],\n",
       "       [ 0.02005149],\n",
       "       [ 0.02009859]])"
      ]
     },
     "execution_count": 8,
     "metadata": {},
     "output_type": "execute_result"
    }
   ],
   "source": [
    "###############power method##############\n",
    "var=100\n",
    "sq_dists = squareform(pdist(data, 'sqeuclidean'))\n",
    "K = np.exp((-1/(var) * sq_dists))\n",
    "N = K.shape[0]\n",
    "one_n = np.ones((N, N)) / N\n",
    "\n",
    "eigenvec = np.random.rand(N, 1)\n",
    "# eigenval = eigenvalue(A, eigenvec)\n",
    "one_n_dot_K = one_n.dot(K)\n",
    "K_one_n_dot = K.dot(one_n)\n",
    "for _ in range(1000):\n",
    "    newEigenvec = K.dot(eigenvec) - one_n_dot_K.dot(eigenvec) - K_one_n_dot.dot(eigenvec) + one_n_dot_K.dot(one_n).dot(eigenvec)\n",
    "    newEigenvec = newEigenvec/np.linalg.norm(newEigenvec)\n",
    "    eigenvec = newEigenvec\n",
    "    \n",
    "    \n",
    "eigenvec"
   ]
  },
  {
   "cell_type": "code",
   "execution_count": null,
   "metadata": {},
   "outputs": [],
   "source": []
  }
 ],
 "metadata": {
  "kernelspec": {
   "display_name": "Python 3",
   "language": "python",
   "name": "python3"
  },
  "language_info": {
   "codemirror_mode": {
    "name": "ipython",
    "version": 3
   },
   "file_extension": ".py",
   "mimetype": "text/x-python",
   "name": "python",
   "nbconvert_exporter": "python",
   "pygments_lexer": "ipython3",
   "version": "3.6.8"
  }
 },
 "nbformat": 4,
 "nbformat_minor": 2
}
